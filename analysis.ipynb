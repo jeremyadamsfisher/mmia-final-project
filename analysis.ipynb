{
 "cells": [
  {
   "cell_type": "code",
   "execution_count": 21,
   "metadata": {},
   "outputs": [],
   "source": [
    "import pandas as pd\n",
    "import matplotlib.pyplot as plt\n",
    "import seaborn as sns"
   ]
  },
  {
   "cell_type": "code",
   "execution_count": 7,
   "metadata": {},
   "outputs": [],
   "source": [
    "df = pd.read_json(\"registration_results.json\")"
   ]
  },
  {
   "cell_type": "code",
   "execution_count": 8,
   "metadata": {},
   "outputs": [
    {
     "data": {
      "text/html": [
       "<div>\n",
       "<style scoped>\n",
       "    .dataframe tbody tr th:only-of-type {\n",
       "        vertical-align: middle;\n",
       "    }\n",
       "\n",
       "    .dataframe tbody tr th {\n",
       "        vertical-align: top;\n",
       "    }\n",
       "\n",
       "    .dataframe thead th {\n",
       "        text-align: right;\n",
       "    }\n",
       "</style>\n",
       "<table border=\"1\" class=\"dataframe\">\n",
       "  <thead>\n",
       "    <tr style=\"text-align: right;\">\n",
       "      <th></th>\n",
       "      <th>appendage</th>\n",
       "      <th>fname</th>\n",
       "      <th>rotation</th>\n",
       "      <th>padding_top</th>\n",
       "      <th>padding_left</th>\n",
       "      <th>transform_quality</th>\n",
       "    </tr>\n",
       "  </thead>\n",
       "  <tbody>\n",
       "    <tr>\n",
       "      <th>0</th>\n",
       "      <td>RF</td>\n",
       "      <td>UAB595-RF.jpg</td>\n",
       "      <td>0.075782</td>\n",
       "      <td>15</td>\n",
       "      <td>0</td>\n",
       "      <td>-0.190552</td>\n",
       "    </tr>\n",
       "    <tr>\n",
       "      <th>1</th>\n",
       "      <td>RF</td>\n",
       "      <td>UAB057-RF.jpg</td>\n",
       "      <td>-0.111693</td>\n",
       "      <td>188</td>\n",
       "      <td>0</td>\n",
       "      <td>-0.402644</td>\n",
       "    </tr>\n",
       "    <tr>\n",
       "      <th>2</th>\n",
       "      <td>LH</td>\n",
       "      <td>UAB394-LH.jpg</td>\n",
       "      <td>-0.046676</td>\n",
       "      <td>53</td>\n",
       "      <td>0</td>\n",
       "      <td>-0.224864</td>\n",
       "    </tr>\n",
       "    <tr>\n",
       "      <th>3</th>\n",
       "      <td>RF</td>\n",
       "      <td>UAB395-RF.jpg</td>\n",
       "      <td>-0.115862</td>\n",
       "      <td>334</td>\n",
       "      <td>0</td>\n",
       "      <td>-0.339849</td>\n",
       "    </tr>\n",
       "    <tr>\n",
       "      <th>4</th>\n",
       "      <td>RF</td>\n",
       "      <td>UAB041-RF.jpg</td>\n",
       "      <td>-0.014868</td>\n",
       "      <td>190</td>\n",
       "      <td>0</td>\n",
       "      <td>-0.337246</td>\n",
       "    </tr>\n",
       "    <tr>\n",
       "      <th>5</th>\n",
       "      <td>LH</td>\n",
       "      <td>UAB007-LH.jpg</td>\n",
       "      <td>0.012288</td>\n",
       "      <td>291</td>\n",
       "      <td>0</td>\n",
       "      <td>-0.209845</td>\n",
       "    </tr>\n",
       "    <tr>\n",
       "      <th>6</th>\n",
       "      <td>RH</td>\n",
       "      <td>UAB056-RH.jpg</td>\n",
       "      <td>-0.010175</td>\n",
       "      <td>255</td>\n",
       "      <td>0</td>\n",
       "      <td>-0.072341</td>\n",
       "    </tr>\n",
       "    <tr>\n",
       "      <th>7</th>\n",
       "      <td>LF</td>\n",
       "      <td>UAB063-LF.jpg</td>\n",
       "      <td>-0.037617</td>\n",
       "      <td>199</td>\n",
       "      <td>0</td>\n",
       "      <td>-0.316908</td>\n",
       "    </tr>\n",
       "    <tr>\n",
       "      <th>8</th>\n",
       "      <td>LF</td>\n",
       "      <td>UAB576-LF.jpg</td>\n",
       "      <td>-0.024426</td>\n",
       "      <td>96</td>\n",
       "      <td>0</td>\n",
       "      <td>-0.300169</td>\n",
       "    </tr>\n",
       "    <tr>\n",
       "      <th>9</th>\n",
       "      <td>LH</td>\n",
       "      <td>UAB704-LH.jpg</td>\n",
       "      <td>-0.027236</td>\n",
       "      <td>77</td>\n",
       "      <td>0</td>\n",
       "      <td>-0.214046</td>\n",
       "    </tr>\n",
       "    <tr>\n",
       "      <th>10</th>\n",
       "      <td>LH</td>\n",
       "      <td>UAB071-LH.jpg</td>\n",
       "      <td>0.057388</td>\n",
       "      <td>151</td>\n",
       "      <td>0</td>\n",
       "      <td>-0.281235</td>\n",
       "    </tr>\n",
       "    <tr>\n",
       "      <th>11</th>\n",
       "      <td>LH</td>\n",
       "      <td>UAB084-LH.jpg</td>\n",
       "      <td>0.009774</td>\n",
       "      <td>253</td>\n",
       "      <td>0</td>\n",
       "      <td>-0.198810</td>\n",
       "    </tr>\n",
       "    <tr>\n",
       "      <th>12</th>\n",
       "      <td>RF</td>\n",
       "      <td>UAB208-RF.jpg</td>\n",
       "      <td>-0.022839</td>\n",
       "      <td>304</td>\n",
       "      <td>0</td>\n",
       "      <td>-0.320141</td>\n",
       "    </tr>\n",
       "    <tr>\n",
       "      <th>13</th>\n",
       "      <td>RF</td>\n",
       "      <td>UAB052-RF.jpg</td>\n",
       "      <td>-0.093654</td>\n",
       "      <td>5</td>\n",
       "      <td>0</td>\n",
       "      <td>-0.344862</td>\n",
       "    </tr>\n",
       "    <tr>\n",
       "      <th>14</th>\n",
       "      <td>LH</td>\n",
       "      <td>UAB602-LH.jpg</td>\n",
       "      <td>0.025935</td>\n",
       "      <td>115</td>\n",
       "      <td>0</td>\n",
       "      <td>-0.394213</td>\n",
       "    </tr>\n",
       "    <tr>\n",
       "      <th>15</th>\n",
       "      <td>RF</td>\n",
       "      <td>UAB592-RF.jpg</td>\n",
       "      <td>-0.009583</td>\n",
       "      <td>161</td>\n",
       "      <td>0</td>\n",
       "      <td>-0.007910</td>\n",
       "    </tr>\n",
       "    <tr>\n",
       "      <th>16</th>\n",
       "      <td>LH</td>\n",
       "      <td>UAB086-LH.jpg</td>\n",
       "      <td>0.056434</td>\n",
       "      <td>177</td>\n",
       "      <td>0</td>\n",
       "      <td>-0.030768</td>\n",
       "    </tr>\n",
       "  </tbody>\n",
       "</table>\n",
       "</div>"
      ],
      "text/plain": [
       "   appendage          fname  rotation  padding_top  padding_left  \\\n",
       "0         RF  UAB595-RF.jpg  0.075782           15             0   \n",
       "1         RF  UAB057-RF.jpg -0.111693          188             0   \n",
       "2         LH  UAB394-LH.jpg -0.046676           53             0   \n",
       "3         RF  UAB395-RF.jpg -0.115862          334             0   \n",
       "4         RF  UAB041-RF.jpg -0.014868          190             0   \n",
       "5         LH  UAB007-LH.jpg  0.012288          291             0   \n",
       "6         RH  UAB056-RH.jpg -0.010175          255             0   \n",
       "7         LF  UAB063-LF.jpg -0.037617          199             0   \n",
       "8         LF  UAB576-LF.jpg -0.024426           96             0   \n",
       "9         LH  UAB704-LH.jpg -0.027236           77             0   \n",
       "10        LH  UAB071-LH.jpg  0.057388          151             0   \n",
       "11        LH  UAB084-LH.jpg  0.009774          253             0   \n",
       "12        RF  UAB208-RF.jpg -0.022839          304             0   \n",
       "13        RF  UAB052-RF.jpg -0.093654            5             0   \n",
       "14        LH  UAB602-LH.jpg  0.025935          115             0   \n",
       "15        RF  UAB592-RF.jpg -0.009583          161             0   \n",
       "16        LH  UAB086-LH.jpg  0.056434          177             0   \n",
       "\n",
       "    transform_quality  \n",
       "0           -0.190552  \n",
       "1           -0.402644  \n",
       "2           -0.224864  \n",
       "3           -0.339849  \n",
       "4           -0.337246  \n",
       "5           -0.209845  \n",
       "6           -0.072341  \n",
       "7           -0.316908  \n",
       "8           -0.300169  \n",
       "9           -0.214046  \n",
       "10          -0.281235  \n",
       "11          -0.198810  \n",
       "12          -0.320141  \n",
       "13          -0.344862  \n",
       "14          -0.394213  \n",
       "15          -0.007910  \n",
       "16          -0.030768  "
      ]
     },
     "execution_count": 8,
     "metadata": {},
     "output_type": "execute_result"
    }
   ],
   "source": [
    "df"
   ]
  },
  {
   "cell_type": "code",
   "execution_count": 14,
   "metadata": {},
   "outputs": [
    {
     "data": {
      "text/plain": [
       "<matplotlib.axes._subplots.AxesSubplot at 0x1a22c1ee10>"
      ]
     },
     "execution_count": 14,
     "metadata": {},
     "output_type": "execute_result"
    },
    {
     "data": {
      "image/png": "[encoded data removed]",
      "text/plain": [
       "<Figure size 432x288 with 1 Axes>"
      ]
     },
     "metadata": {
      "needs_background": "light"
     },
     "output_type": "display_data"
    }
   ],
   "source": [
    "sns.distplot(df.transform_quality, bins=25)"
   ]
  },
  {
   "cell_type": "code",
   "execution_count": 46,
   "metadata": {},
   "outputs": [
    {
     "data": {
      "image/png": "[encoded data removed]",
      "text/plain": [
       "<Figure size 432x288 with 2 Axes>"
      ]
     },
     "metadata": {
      "needs_background": "light"
     },
     "output_type": "display_data"
    }
   ],
   "source": [
    "fig, (ax0, ax1) = plt.subplots(1,2)\n",
    "for ax, feat, label in [(ax0, \"rotation\", \"Rotation (Radians)\"),\n",
    "                        (ax1, \"transform_quality\", \"Transform Quality (bits)\")]:\n",
    "    sns.boxplot(\n",
    "        x=\"appendage\",\n",
    "        y=feat,\n",
    "        data=df,\n",
    "        ax=ax,\n",
    "        palette=\"vlag\",\n",
    "    ).set(xlabel=\"Appendage\", ylabel=label)\n",
    "fig.tight_layout()"
   ]
  },
  {
   "cell_type": "code",
   "execution_count": null,
   "metadata": {},
   "outputs": [],
   "source": []
  }
 ],
 "metadata": {
  "kernelspec": {
   "display_name": "Data Cruncher",
   "language": "python",
   "name": "crunch"
  },
  "language_info": {
   "codemirror_mode": {
    "name": "ipython",
    "version": 3
   },
   "file_extension": ".py",
   "mimetype": "text/x-python",
   "name": "python",
   "nbconvert_exporter": "python",
   "pygments_lexer": "ipython3",
   "version": "3.7.6"
  },
  "widgets": {
   "application/vnd.jupyter.widget-state+json": {
    "state": {},
    "version_major": 2,
    "version_minor": 0
   }
  }
 },
 "nbformat": 4,
 "nbformat_minor": 4
}
